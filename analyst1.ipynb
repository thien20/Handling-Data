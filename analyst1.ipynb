{
 "cells": [
  {
   "cell_type": "markdown",
   "metadata": {},
   "source": [
    "# 0. Prepare"
   ]
  },
  {
   "cell_type": "code",
   "execution_count": null,
   "metadata": {},
   "outputs": [],
   "source": [
    "import zipfile\n",
    "import time\n",
    "import pandas as pd\n",
    "import numpy as np\n",
    "import pickle as pkl\n",
    "import matplotlib.pyplot as plt\n",
    "\n",
    "\n",
    "from zipfile import ZipFile\n",
    "from memory_profiler import profile"
   ]
  },
  {
   "cell_type": "code",
   "execution_count": null,
   "metadata": {},
   "outputs": [],
   "source": [
    "url = '/Users/thienhtt20/Documents/GitHub/Handling-Data/MyData/2019-Nov.csv.zip'"
   ]
  },
  {
   "cell_type": "code",
   "execution_count": null,
   "metadata": {},
   "outputs": [],
   "source": [
    "df = pd.read_csv(url, compression='zip', header=0, sep=',', quotechar='\"', nrows=10)"
   ]
  },
  {
   "cell_type": "code",
   "execution_count": null,
   "metadata": {},
   "outputs": [],
   "source": [
    "df.columns.tolist()"
   ]
  },
  {
   "cell_type": "markdown",
   "metadata": {},
   "source": [
    "# 1.Better read file"
   ]
  },
  {
   "cell_type": "markdown",
   "metadata": {},
   "source": [
    "### 1.1.Basic Feature Selection For Analysis"
   ]
  },
  {
   "cell_type": "markdown",
   "metadata": {},
   "source": [
    "1. As we can see, there are 5 features we actually need to do care about:\n",
    "\n",
    "    [**'category_code', 'brand', 'price', 'event_time', 'event_type'** ]\n",
    "2. The rest would be outliers and redundant due to its data format and unreadble\n",
    "3. Data records should be determined\n",
    "4. Data size is enormous ~60M records --> cannot read immediately\n",
    "5. Data type unoptimized (**float64 -> float16**)\n"
   ]
  },
  {
   "cell_type": "code",
   "execution_count": null,
   "metadata": {},
   "outputs": [],
   "source": [
    "df.head(2)"
   ]
  },
  {
   "cell_type": "code",
   "execution_count": null,
   "metadata": {},
   "outputs": [],
   "source": [
    "needed_categories = ['event_time', 'category_code', 'event_type', 'brand', 'price']"
   ]
  },
  {
   "cell_type": "code",
   "execution_count": null,
   "metadata": {},
   "outputs": [],
   "source": [
    "with zipfile.ZipFile(url, 'r') as zip_file:\n",
    "    file_list = zip_file.namelist()\n",
    "\n",
    "# Assuming the zipped CSV file contains only one CSV file\n",
    "csv_file_name = file_list[0]\n",
    "\n",
    "# Specify the chunk size for reading the file\n",
    "chunk_size = 1000000  # Adjust this based on your available memory\n",
    "\n",
    "# Initialize a counter for total records\n",
    "total_records = 0\n",
    "\n",
    "# Read the zipped CSV file in chunks and count records\n",
    "for chunk in pd.read_csv(url, compression='zip', header=0, sep=',', quotechar='\"', chunksize=chunk_size):\n",
    "    total_records += len(chunk)\n",
    "\n",
    "print(f'Total records in the zipped CSV file: {total_records}')\n"
   ]
  },
  {
   "cell_type": "markdown",
   "metadata": {},
   "source": [
    "### 1.2 Optimized Data Type"
   ]
  },
  {
   "cell_type": "markdown",
   "metadata": {},
   "source": [
    "#### 1.2.1 FLOAT TYPE"
   ]
  },
  {
   "cell_type": "code",
   "execution_count": null,
   "metadata": {},
   "outputs": [],
   "source": [
    "df[needed_categories].dtypes"
   ]
  },
  {
   "cell_type": "code",
   "execution_count": null,
   "metadata": {},
   "outputs": [],
   "source": [
    "df = df[needed_categories]"
   ]
  },
  {
   "cell_type": "code",
   "execution_count": null,
   "metadata": {},
   "outputs": [],
   "source": [
    "df['price'] = df['price'].astype('float16')"
   ]
  },
  {
   "cell_type": "markdown",
   "metadata": {},
   "source": [
    "#### 1.2.2 TIME TYPE"
   ]
  },
  {
   "cell_type": "code",
   "execution_count": null,
   "metadata": {},
   "outputs": [],
   "source": [
    "df.head(4)"
   ]
  },
  {
   "cell_type": "code",
   "execution_count": null,
   "metadata": {},
   "outputs": [],
   "source": [
    "df['event_time'] = df['event_time'].apply(lambda x: x.split(' ')[0])"
   ]
  },
  {
   "cell_type": "code",
   "execution_count": null,
   "metadata": {},
   "outputs": [],
   "source": [
    "df['event_time'] = pd.to_datetime(df['event_time'])"
   ]
  },
  {
   "cell_type": "code",
   "execution_count": null,
   "metadata": {},
   "outputs": [],
   "source": [
    "df['event_time'].dtypes"
   ]
  },
  {
   "cell_type": "code",
   "execution_count": null,
   "metadata": {},
   "outputs": [],
   "source": [
    "df['event_time']"
   ]
  },
  {
   "cell_type": "markdown",
   "metadata": {},
   "source": [
    "# 2. READ WITH CHUNK_SIZE"
   ]
  },
  {
   "cell_type": "markdown",
   "metadata": {},
   "source": [
    "### 2.1 Chunk_size and check null"
   ]
  },
  {
   "cell_type": "code",
   "execution_count": null,
   "metadata": {},
   "outputs": [],
   "source": [
    "df_test = pd.read_csv(url, compression='zip', header=0, sep=',', quotechar='\"', chunksize=1000000)"
   ]
  },
  {
   "cell_type": "code",
   "execution_count": null,
   "metadata": {},
   "outputs": [],
   "source": [
    "for chunk in df_test:\n",
    "    chunk = chunk[needed_categories]\n",
    "    print(chunk.isna().sum())\n",
    "    break"
   ]
  },
  {
   "cell_type": "markdown",
   "metadata": {},
   "source": [
    "### 2.2 More Details"
   ]
  },
  {
   "cell_type": "markdown",
   "metadata": {},
   "source": [
    "- From 1M records with each chunk, we are able to reduce ~40% records from 1M to roughly 600K records for the **FIRST** chunk"
   ]
  },
  {
   "cell_type": "code",
   "execution_count": null,
   "metadata": {},
   "outputs": [],
   "source": [
    "import pandas as pd\n",
    "\n",
    "chunk_size = 1000000\n",
    "df_chunks = pd.read_csv(url, compression='zip', header=0, sep=',', quotechar='\"', chunksize=chunk_size)\n",
    "\n",
    "\n",
    "for i, chunk in enumerate(df_chunks):\n",
    "    print(f\"Memory usage for chunk {i + 1}: {chunk.memory_usage(deep=True).sum() / (1024 ** 2):.2f} MB\")\n",
    "\n"
   ]
  },
  {
   "cell_type": "code",
   "execution_count": null,
   "metadata": {},
   "outputs": [],
   "source": [
    "df_chunks = pd.read_csv(url, compression='zip', header=0, \n",
    "                 sep=',', quotechar='\"',\n",
    "                 usecols=needed_categories, chunksize=1000000)\n",
    "for i, chunk in enumerate(df_chunks):\n",
    "    print(f\"Memory usage for chunk {i + 1}: {chunk.memory_usage(deep=True).sum() / (1024 ** 2):.2f} MB\")\n"
   ]
  },
  {
   "cell_type": "code",
   "execution_count": null,
   "metadata": {},
   "outputs": [],
   "source": [
    "def process_data(url, chunk_size, needed_categories):\n",
    "    start_time = time.time()\n",
    "    df_chunks = pd.read_csv(url, compression='zip', header=0, \n",
    "                 sep=',', quotechar='\"',\n",
    "                 usecols=needed_categories, chunksize=chunk_size)\n",
    "    large = []\n",
    "    small = []\n",
    "    final_output = pd.DataFrame()\n",
    "    \n",
    "    for i, chunk in enumerate(df_chunks):\n",
    "        print(f\"Memory usage for chunk {i}: {chunk.memory_usage(deep=True).sum() / (1024 ** 2):.2f} MB\")\n",
    "        large.append(chunk.memory_usage(deep=True).sum() / (1024 ** 2))\n",
    "\n",
    "        chunk['count'] = np.int32(1)\n",
    "        chunk['event_time'] = pd.to_datetime(chunk['event_time']).dt.date\n",
    "        processed_chunk = chunk.groupby(needed_categories, as_index=False).sum().reset_index(drop=True)\n",
    "        processed_chunk['price'] = processed_chunk['price'].astype('float16')\n",
    "        final_output = pd.concat([final_output, processed_chunk], ignore_index=True, sort=False)\n",
    "        \n",
    "        print(f\"Memory usage after processing chunk {i}: {processed_chunk.memory_usage(deep=True).sum() / (1024 ** 2):.2f} MB\")\n",
    "        small.append(processed_chunk.memory_usage(deep=True).sum() / (1024 ** 2))\n",
    "        \n",
    "        print(\"-\"*50)\n",
    "        print('\\n')\n",
    "        \n",
    "    final_output.to_csv(\"final_output.csv\", index=False)\n",
    "    end_time = time.time()\n",
    "    print(f\"Total time taken: {end_time - start_time:.2f} seconds\")\n",
    "    return final_output, large, small"
   ]
  },
  {
   "cell_type": "code",
   "execution_count": null,
   "metadata": {},
   "outputs": [],
   "source": [
    "final_output, large, small = process_data(url, chunk_size=1000000, \n",
    "                            needed_categories=needed_categories)"
   ]
  },
  {
   "cell_type": "markdown",
   "metadata": {},
   "source": [
    "- chunksize = 1M -> 322.09s\n",
    "- chunksize = 100K -> 400.14s"
   ]
  },
  {
   "cell_type": "code",
   "execution_count": null,
   "metadata": {},
   "outputs": [],
   "source": [
    "final_output.info()"
   ]
  },
  {
   "cell_type": "markdown",
   "metadata": {},
   "source": [
    "### 2.3 Visualize and Analyze"
   ]
  },
  {
   "cell_type": "code",
   "execution_count": null,
   "metadata": {},
   "outputs": [],
   "source": [
    "mean_large = np.mean(large)\n",
    "mean_small = np.mean(small)\n",
    "\n",
    "plt.figure(figsize=(10, 6))\n",
    "plt.scatter(range(len(small)), small, color='blue', label='Small')\n",
    "plt.scatter(range(len(large)), large, color='red', label='Large')\n",
    "plt.xlabel('Chunk Index')\n",
    "plt.ylabel('Memory Usage (MB)')\n",
    "plt.legend()\n",
    "plt.axhline(y=mean_large, color='red', linestyle='--')\n",
    "plt.axhline(y=mean_small, color='blue', linestyle='--')\n",
    "plt.show()"
   ]
  },
  {
   "cell_type": "code",
   "execution_count": null,
   "metadata": {},
   "outputs": [],
   "source": [
    "total_records = 67_501_979\n",
    "final_records = 2_169_411\n",
    "\n",
    "print(f'mean_large: {mean_large}')\n",
    "print(f'mean_small: {mean_small}')\n",
    "print(f'total_records: {total_records:,}')\n",
    "print(f'final_records: {final_records:,}')\n",
    "print('-'*50)\n",
    "print(f'Reduced memory usage by {100 - mean_small / mean_large * 100:.2f}%')\n",
    "print(f'Reduced number of records by {total_records - final_records:,}')"
   ]
  },
  {
   "cell_type": "markdown",
   "metadata": {},
   "source": [
    "# 3. WORK WITH NEW PROCESSED DATA"
   ]
  },
  {
   "cell_type": "markdown",
   "metadata": {},
   "source": [
    "- Analyst needed features then split into separate table:\n",
    "    \n",
    "    BRAND: ['brand', 'category_code', 'event_type']\n",
    "    \n",
    "    PRODUCT: ['category_code', 'price', 'event_type']\n",
    "\n",
    "- We still need to work with over 2M records "
   ]
  },
  {
   "cell_type": "code",
   "execution_count": null,
   "metadata": {},
   "outputs": [],
   "source": [
    "import pandas as pd\n",
    "\n",
    "new_url = \"/Users/thienhtt20/Documents/GitHub/Handling-Data/MyData/final_output.csv\"\n",
    "cols = ['brand', 'category_code', 'event_type', 'count']\n",
    "brand_test = pd.read_csv(new_url, usecols=cols, chunksize=500000)\n"
   ]
  },
  {
   "cell_type": "code",
   "execution_count": null,
   "metadata": {},
   "outputs": [],
   "source": [
    "brand = pd.DataFrame()\n",
    "for chunk in brand_test:\n",
    "    print('Memory usage: {:.2f} MB'.format(chunk.memory_usage(deep=True).sum() / (1024 ** 2)))\n",
    "    brand = pd.concat([brand, chunk], ignore_index=True, sort=False)\n",
    "    print('Memory usage after concatenation: {:.2f} MB'.format(brand.memory_usage(deep=True).sum() / (1024 ** 2)))\n",
    "    print('-'*50)\n"
   ]
  },
  {
   "cell_type": "code",
   "execution_count": null,
   "metadata": {},
   "outputs": [],
   "source": [
    "brand['count'] = brand['count'].sort_values(ascending=False, ignore_index=True)"
   ]
  },
  {
   "cell_type": "code",
   "execution_count": null,
   "metadata": {},
   "outputs": [],
   "source": [
    "temp_brand = brand['category_code'].apply(lambda x: x.split('.')[0])\n",
    "temp_product = brand['category_code'].apply(lambda x: x.split('.')[1])\n",
    "brand['temp_category'] = temp_brand\n",
    "brand['temp_product'] = temp_product\n",
    "brand.drop(columns=['category_code'], inplace=True)"
   ]
  },
  {
   "cell_type": "code",
   "execution_count": null,
   "metadata": {},
   "outputs": [],
   "source": [
    "brand.head(10)"
   ]
  },
  {
   "cell_type": "markdown",
   "metadata": {},
   "source": [
    "## 3.1 Popular Brand in Nov"
   ]
  },
  {
   "cell_type": "code",
   "execution_count": null,
   "metadata": {},
   "outputs": [],
   "source": [
    "popular_brand = brand.groupby('brand')['count'].sum().reset_index().sort_values(by='count', ascending=False)\n",
    "popular_brand.head(10)\n"
   ]
  },
  {
   "cell_type": "code",
   "execution_count": null,
   "metadata": {},
   "outputs": [],
   "source": [
    "\n",
    "popular_brand.head(10).plot(x='brand', y='count', title='10 Most Popular Brand',\n",
    "                            kind='bar', figsize=(10, 6), rot=0, \n",
    "                            color=['blue' if x == popular_brand['count'].max() else 'lightblue' for x in popular_brand['count']])\n"
   ]
  },
  {
   "cell_type": "code",
   "execution_count": null,
   "metadata": {},
   "outputs": [],
   "source": [
    "popular_category_in_brand = brand.groupby(['brand', 'temp_category'])['count'].sum().reset_index().sort_values(by='count', ascending=False)"
   ]
  },
  {
   "cell_type": "code",
   "execution_count": null,
   "metadata": {},
   "outputs": [],
   "source": [
    "# Get the 10 most popular brands\n",
    "top_10_brands = popular_brand.head(10)['brand'].tolist()\n",
    "\n",
    "# Filter the data for the top 10 brands\n",
    "filtered_data = popular_category_in_brand[popular_category_in_brand['brand'].isin(top_10_brands)]\n",
    "\n",
    "# Compute the total count for each brand\n",
    "brand_total_count = filtered_data.groupby('brand')['count'].sum()\n",
    "\n",
    "# Compute the proportion of each category in the 10 most popular brands\n",
    "filtered_data['proportion'] = filtered_data.apply(lambda row: row['count'] / brand_total_count[row['brand']], axis=1)\n",
    "\n",
    "# Sort the data by brand and count in descending order\n",
    "filtered_data.sort_values(by=['brand', 'count'], ascending=[True, False]).head(20)\n",
    "\n"
   ]
  },
  {
   "cell_type": "code",
   "execution_count": null,
   "metadata": {},
   "outputs": [],
   "source": [
    "import matplotlib.pyplot as plt\n",
    "import numpy as np\n",
    "\n",
    "brands = filtered_data['brand'].unique()\n",
    "\n",
    "fig, axes = plt.subplots(nrows=5, ncols=2, figsize=(10, 20))\n",
    "\n",
    "axes = axes.flatten()\n",
    "\n",
    "fig.subplots_adjust(hspace=0.5)\n",
    "\n",
    "for i, brand in enumerate(brands):\n",
    "    brand_data = filtered_data[filtered_data['brand'] == brand]\n",
    "\n",
    "    brand_data_filtered = brand_data[brand_data['proportion'] >= 0.03]\n",
    "\n",
    "    plt.sca(axes[i])\n",
    "    \n",
    "    if not brand_data_filtered.empty:\n",
    "        plt.pie(brand_data_filtered['proportion'], labels=brand_data_filtered['temp_category'], autopct='%1.1f%%', startangle=90, counterclock=False)\n",
    "    \n",
    "        plt.title(fr\"Proportion of Categories in $\\bf{{{brand}}}$\")\n",
    "        \n",
    "        plt.xticks([])\n",
    "        plt.yticks([])\n",
    "        \n",
    "    else:\n",
    "        plt.title(f\"No data for {brand}\")\n",
    "\n",
    "for i in range(len(brands), len(axes)):\n",
    "    fig.delaxes(axes[i])\n",
    "\n",
    "plt.tight_layout()\n",
    "plt.show()\n"
   ]
  },
  {
   "cell_type": "markdown",
   "metadata": {},
   "source": [
    "### 3.2 Popular product in each Brand"
   ]
  },
  {
   "cell_type": "code",
   "execution_count": 1,
   "metadata": {},
   "outputs": [],
   "source": [
    "import pandas as pd\n",
    "\n",
    "new_url = \"/Users/thienhtt20/Documents/GitHub/Handling-Data/MyData/final_output.csv\"\n",
    "cols = ['brand', 'category_code', 'event_type', 'price', 'count']\n",
    "product_temp = pd.read_csv(new_url, usecols=cols, chunksize=500000)"
   ]
  },
  {
   "cell_type": "code",
   "execution_count": 2,
   "metadata": {},
   "outputs": [
    {
     "name": "stdout",
     "output_type": "stream",
     "text": [
      "Memory usage: 105.04 MB\n",
      "Memory usage after concatenation: 105.04 MB\n",
      "--------------------------------------------------\n",
      "Memory usage: 105.00 MB\n",
      "Memory usage after concatenation: 210.04 MB\n",
      "--------------------------------------------------\n",
      "Memory usage: 105.10 MB\n",
      "Memory usage after concatenation: 315.15 MB\n",
      "--------------------------------------------------\n",
      "Memory usage: 105.07 MB\n",
      "Memory usage after concatenation: 420.22 MB\n",
      "--------------------------------------------------\n",
      "Memory usage: 35.58 MB\n",
      "Memory usage after concatenation: 455.80 MB\n",
      "--------------------------------------------------\n"
     ]
    }
   ],
   "source": [
    "product = pd.DataFrame()\n",
    "for chunk in product_temp:\n",
    "    print('Memory usage: {:.2f} MB'.format(chunk.memory_usage(deep=True).sum() / (1024 ** 2)))\n",
    "    product = pd.concat([product, chunk], ignore_index=True, sort=False)\n",
    "    print('Memory usage after concatenation: {:.2f} MB'.format(product.memory_usage(deep=True).sum() / (1024 ** 2)))\n",
    "    print('-'*50)\n",
    "    "
   ]
  },
  {
   "cell_type": "code",
   "execution_count": 6,
   "metadata": {},
   "outputs": [
    {
     "data": {
      "text/html": [
       "<div>\n",
       "<style scoped>\n",
       "    .dataframe tbody tr th:only-of-type {\n",
       "        vertical-align: middle;\n",
       "    }\n",
       "\n",
       "    .dataframe tbody tr th {\n",
       "        vertical-align: top;\n",
       "    }\n",
       "\n",
       "    .dataframe thead th {\n",
       "        text-align: right;\n",
       "    }\n",
       "</style>\n",
       "<table border=\"1\" class=\"dataframe\">\n",
       "  <thead>\n",
       "    <tr style=\"text-align: right;\">\n",
       "      <th></th>\n",
       "      <th>category_code</th>\n",
       "      <th>event_type</th>\n",
       "      <th>price</th>\n",
       "      <th>count</th>\n",
       "    </tr>\n",
       "  </thead>\n",
       "  <tbody>\n",
       "    <tr>\n",
       "      <th>0</th>\n",
       "      <td>accessories.bag</td>\n",
       "      <td>cart</td>\n",
       "      <td>20.08</td>\n",
       "      <td>4</td>\n",
       "    </tr>\n",
       "    <tr>\n",
       "      <th>1</th>\n",
       "      <td>accessories.bag</td>\n",
       "      <td>purchase</td>\n",
       "      <td>32.20</td>\n",
       "      <td>1</td>\n",
       "    </tr>\n",
       "    <tr>\n",
       "      <th>2</th>\n",
       "      <td>accessories.bag</td>\n",
       "      <td>purchase</td>\n",
       "      <td>35.78</td>\n",
       "      <td>1</td>\n",
       "    </tr>\n",
       "    <tr>\n",
       "      <th>3</th>\n",
       "      <td>accessories.bag</td>\n",
       "      <td>purchase</td>\n",
       "      <td>43.00</td>\n",
       "      <td>1</td>\n",
       "    </tr>\n",
       "    <tr>\n",
       "      <th>4</th>\n",
       "      <td>accessories.bag</td>\n",
       "      <td>purchase</td>\n",
       "      <td>11.81</td>\n",
       "      <td>1</td>\n",
       "    </tr>\n",
       "    <tr>\n",
       "      <th>5</th>\n",
       "      <td>accessories.bag</td>\n",
       "      <td>purchase</td>\n",
       "      <td>17.50</td>\n",
       "      <td>1</td>\n",
       "    </tr>\n",
       "    <tr>\n",
       "      <th>6</th>\n",
       "      <td>accessories.bag</td>\n",
       "      <td>purchase</td>\n",
       "      <td>48.90</td>\n",
       "      <td>1</td>\n",
       "    </tr>\n",
       "    <tr>\n",
       "      <th>7</th>\n",
       "      <td>accessories.bag</td>\n",
       "      <td>purchase</td>\n",
       "      <td>7.44</td>\n",
       "      <td>1</td>\n",
       "    </tr>\n",
       "    <tr>\n",
       "      <th>8</th>\n",
       "      <td>accessories.bag</td>\n",
       "      <td>purchase</td>\n",
       "      <td>25.48</td>\n",
       "      <td>1</td>\n",
       "    </tr>\n",
       "    <tr>\n",
       "      <th>9</th>\n",
       "      <td>accessories.bag</td>\n",
       "      <td>purchase</td>\n",
       "      <td>47.28</td>\n",
       "      <td>1</td>\n",
       "    </tr>\n",
       "  </tbody>\n",
       "</table>\n",
       "</div>"
      ],
      "text/plain": [
       "     category_code event_type  price  count\n",
       "0  accessories.bag       cart  20.08      4\n",
       "1  accessories.bag   purchase  32.20      1\n",
       "2  accessories.bag   purchase  35.78      1\n",
       "3  accessories.bag   purchase  43.00      1\n",
       "4  accessories.bag   purchase  11.81      1\n",
       "5  accessories.bag   purchase  17.50      1\n",
       "6  accessories.bag   purchase  48.90      1\n",
       "7  accessories.bag   purchase   7.44      1\n",
       "8  accessories.bag   purchase  25.48      1\n",
       "9  accessories.bag   purchase  47.28      1"
      ]
     },
     "execution_count": 6,
     "metadata": {},
     "output_type": "execute_result"
    }
   ],
   "source": [
    "product.head(10)"
   ]
  },
  {
   "cell_type": "code",
   "execution_count": 3,
   "metadata": {},
   "outputs": [],
   "source": [
    "temp_product = product['category_code'].apply(lambda x: x.split('.')[1])\n",
    "product['temp_product'] = temp_product\n",
    "product.drop(columns=['category_code'], inplace=True)"
   ]
  },
  {
   "cell_type": "markdown",
   "metadata": {},
   "source": [
    "### 10 Most Popular Product"
   ]
  },
  {
   "cell_type": "code",
   "execution_count": 7,
   "metadata": {},
   "outputs": [],
   "source": [
    "top10_product = product.groupby('temp_product')['count'].sum().sort_values(ascending=False).head(10)"
   ]
  },
  {
   "cell_type": "code",
   "execution_count": 10,
   "metadata": {},
   "outputs": [
    {
     "data": {
      "text/plain": [
       "temp_product\n",
       "smartphone     16353582\n",
       "kitchen         5334000\n",
       "audio           2272152\n",
       "video           2218002\n",
       "notebook        2164657\n",
       "shoes           2049515\n",
       "environment     2031498\n",
       "clocks          1811325\n",
       "accessories      988312\n",
       "tools            830395\n",
       "Name: count, dtype: int64"
      ]
     },
     "execution_count": 10,
     "metadata": {},
     "output_type": "execute_result"
    }
   ],
   "source": [
    "top10_product.head(10)"
   ]
  },
  {
   "cell_type": "code",
   "execution_count": 14,
   "metadata": {},
   "outputs": [
    {
     "name": "stdout",
     "output_type": "stream",
     "text": [
      "Number of smartphone records in top 10 product: 16,353,582\n",
      "Total number of records in top 10 product: 36,053,438\n",
      "Proportion of smartphone in top 10 product: 45.36%\n"
     ]
    }
   ],
   "source": [
    "smartphone_records = top10_product['smartphone'].sum()\n",
    "sum_top10_product = top10_product.head(10).sum()\n",
    "print(f'Number of smartphone records in top 10 product: {smartphone_records:,}')\n",
    "print(f'Total number of records in top 10 product: {sum_top10_product:,}')\n",
    "print(f'Proportion of smartphone in top 10 product: {smartphone_records / sum_top10_product * 100:.2f}%')"
   ]
  },
  {
   "cell_type": "code",
   "execution_count": 8,
   "metadata": {},
   "outputs": [
    {
     "data": {
      "text/plain": [
       "<Axes: xlabel='temp_product'>"
      ]
     },
     "execution_count": 8,
     "metadata": {},
     "output_type": "execute_result"
    },
    {
     "data": {
      "image/png": "[encoded data removed]",
      "text/plain": [
       "<Figure size 1000x600 with 1 Axes>"
      ]
     },
     "metadata": {},
     "output_type": "display_data"
    }
   ],
   "source": [
    "top10_product.plot(kind='bar', figsize=(10, 6), rot=0, color=['blue' if x == top10_product.max() else 'lightblue' for x in top10_product])"
   ]
  },
  {
   "cell_type": "code",
   "execution_count": null,
   "metadata": {},
   "outputs": [],
   "source": []
  }
 ],
 "metadata": {
  "kernelspec": {
   "display_name": "Python 3",
   "language": "python",
   "name": "python3"
  },
  "language_info": {
   "codemirror_mode": {
    "name": "ipython",
    "version": 3
   },
   "file_extension": ".py",
   "mimetype": "text/x-python",
   "name": "python",
   "nbconvert_exporter": "python",
   "pygments_lexer": "ipython3",
   "version": "3.9.6"
  }
 },
 "nbformat": 4,
 "nbformat_minor": 2
}
