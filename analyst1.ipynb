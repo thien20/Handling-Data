{
 "cells": [
  {
   "cell_type": "markdown",
   "metadata": {},
   "source": [
    "# 0. Prepare"
   ]
  },
  {
   "cell_type": "code",
   "execution_count": 3,
   "metadata": {},
   "outputs": [],
   "source": [
    "import zipfile\n",
    "import time\n",
    "import pandas as pd\n",
    "import numpy as np\n",
    "import pickle as pkl\n",
    "import matplotlib.pyplot as plt\n",
    "\n",
    "\n",
    "from zipfile import ZipFile\n",
    "from memory_profiler import profile"
   ]
  },
  {
   "cell_type": "code",
   "execution_count": 4,
   "metadata": {},
   "outputs": [],
   "source": [
    "url = '/Users/thienhtt20/Documents/GitHub/Handling-Data/MyData/2019-Nov.csv.zip'"
   ]
  },
  {
   "cell_type": "code",
   "execution_count": null,
   "metadata": {},
   "outputs": [],
   "source": [
    "# df = pd.read_csv(url, compression='zip', header=0, sep=',', quotechar='\"')\n",
    "# df.info(verbose=False, memory_usage=\"deep\")"
   ]
  },
  {
   "cell_type": "code",
   "execution_count": null,
   "metadata": {},
   "outputs": [],
   "source": [
    "df = pd.read_csv(url, compression='zip', header=0, sep=',', quotechar='\"', nrows=10)"
   ]
  },
  {
   "cell_type": "code",
   "execution_count": null,
   "metadata": {},
   "outputs": [],
   "source": [
    "df.columns.tolist()"
   ]
  },
  {
   "cell_type": "markdown",
   "metadata": {},
   "source": [
    "# 1.Better read file"
   ]
  },
  {
   "cell_type": "markdown",
   "metadata": {},
   "source": [
    "### 1.1.Basic Feature Selection For Analysis"
   ]
  },
  {
   "cell_type": "markdown",
   "metadata": {},
   "source": [
    "1. As we can see, there are 5 features we actually need to do care about:\n",
    "\n",
    "    [**'category_code', 'brand', 'price', 'event_time', 'event_type'** ]\n",
    "2. The rest would be outliers and redundant due to its data format and unreadble\n",
    "\n",
    "3. Data size is enormous ~60M records --> cannot read immediately\n",
    "4. Data type unoptimized (**float64 -> float16**)"
   ]
  },
  {
   "cell_type": "code",
   "execution_count": null,
   "metadata": {},
   "outputs": [],
   "source": [
    "df.head(2)"
   ]
  },
  {
   "cell_type": "code",
   "execution_count": 5,
   "metadata": {},
   "outputs": [],
   "source": [
    "needed_categories = ['event_time', 'category_code', 'event_type', 'brand', 'price']"
   ]
  },
  {
   "cell_type": "markdown",
   "metadata": {},
   "source": [
    "### 1.2 Optimized Data Type"
   ]
  },
  {
   "cell_type": "markdown",
   "metadata": {},
   "source": [
    "#### 1.2.1 FLOAT TYPE"
   ]
  },
  {
   "cell_type": "code",
   "execution_count": null,
   "metadata": {},
   "outputs": [],
   "source": [
    "df[needed_categories].dtypes"
   ]
  },
  {
   "cell_type": "code",
   "execution_count": null,
   "metadata": {},
   "outputs": [],
   "source": [
    "df = df[needed_categories]"
   ]
  },
  {
   "cell_type": "code",
   "execution_count": null,
   "metadata": {},
   "outputs": [],
   "source": [
    "df['price'] = df['price'].astype('float16')"
   ]
  },
  {
   "cell_type": "markdown",
   "metadata": {},
   "source": [
    "#### 1.2.2 TIME TYPE"
   ]
  },
  {
   "cell_type": "code",
   "execution_count": null,
   "metadata": {},
   "outputs": [],
   "source": [
    "df.head(4)"
   ]
  },
  {
   "cell_type": "code",
   "execution_count": null,
   "metadata": {},
   "outputs": [],
   "source": [
    "df['event_time'] = df['event_time'].apply(lambda x: x.split(' ')[0])"
   ]
  },
  {
   "cell_type": "code",
   "execution_count": null,
   "metadata": {},
   "outputs": [],
   "source": [
    "df['event_time'] = pd.to_datetime(df['event_time'])"
   ]
  },
  {
   "cell_type": "code",
   "execution_count": null,
   "metadata": {},
   "outputs": [],
   "source": [
    "df['event_time'].dtypes"
   ]
  },
  {
   "cell_type": "code",
   "execution_count": null,
   "metadata": {},
   "outputs": [],
   "source": [
    "df['event_time']"
   ]
  },
  {
   "cell_type": "markdown",
   "metadata": {},
   "source": [
    "# 2. READ WITH CHUNK_SIZE"
   ]
  },
  {
   "cell_type": "markdown",
   "metadata": {},
   "source": [
    "### 2.1 Chunk_size and check null"
   ]
  },
  {
   "cell_type": "code",
   "execution_count": null,
   "metadata": {},
   "outputs": [],
   "source": [
    "df_test = pd.read_csv(url, compression='zip', header=0, sep=',', quotechar='\"', chunksize=1000000)"
   ]
  },
  {
   "cell_type": "code",
   "execution_count": null,
   "metadata": {},
   "outputs": [],
   "source": [
    "for chunk in df_test:\n",
    "    chunk = chunk[needed_categories]\n",
    "    print(chunk.isna().sum())\n",
    "    break"
   ]
  },
  {
   "cell_type": "markdown",
   "metadata": {},
   "source": [
    "### 2.2 More Details"
   ]
  },
  {
   "cell_type": "markdown",
   "metadata": {},
   "source": [
    "- From 1M records with each chunk, we are able to reduce ~40% records from 1M to roughly 600K records for the **FIRST** chunk"
   ]
  },
  {
   "cell_type": "code",
   "execution_count": 5,
   "metadata": {},
   "outputs": [
    {
     "name": "stdout",
     "output_type": "stream",
     "text": [
      "Memory usage for chunk 1: 370.82 MB\n",
      "Memory usage for chunk 2: 370.58 MB\n",
      "Memory usage for chunk 3: 370.33 MB\n",
      "Memory usage for chunk 4: 371.12 MB\n",
      "Memory usage for chunk 5: 370.52 MB\n",
      "Memory usage for chunk 6: 370.59 MB\n",
      "Memory usage for chunk 7: 369.93 MB\n"
     ]
    },
    {
     "ename": "ParserError",
     "evalue": "Error tokenizing data. C error: Calling read(nbytes) on source failed. Try engine='python'.",
     "output_type": "error",
     "traceback": [
      "\u001b[0;31m---------------------------------------------------------------------------\u001b[0m",
      "\u001b[0;31mParserError\u001b[0m                               Traceback (most recent call last)",
      "Cell \u001b[0;32mIn[5], line 7\u001b[0m\n\u001b[1;32m      3\u001b[0m chunk_size \u001b[38;5;241m=\u001b[39m \u001b[38;5;241m1000000\u001b[39m\n\u001b[1;32m      4\u001b[0m df_chunks \u001b[38;5;241m=\u001b[39m pd\u001b[38;5;241m.\u001b[39mread_csv(url, compression\u001b[38;5;241m=\u001b[39m\u001b[38;5;124m'\u001b[39m\u001b[38;5;124mzip\u001b[39m\u001b[38;5;124m'\u001b[39m, header\u001b[38;5;241m=\u001b[39m\u001b[38;5;241m0\u001b[39m, sep\u001b[38;5;241m=\u001b[39m\u001b[38;5;124m'\u001b[39m\u001b[38;5;124m,\u001b[39m\u001b[38;5;124m'\u001b[39m, quotechar\u001b[38;5;241m=\u001b[39m\u001b[38;5;124m'\u001b[39m\u001b[38;5;124m\"\u001b[39m\u001b[38;5;124m'\u001b[39m, chunksize\u001b[38;5;241m=\u001b[39mchunk_size)\n\u001b[0;32m----> 7\u001b[0m \u001b[38;5;28;01mfor\u001b[39;00m i, chunk \u001b[38;5;129;01min\u001b[39;00m \u001b[38;5;28menumerate\u001b[39m(df_chunks):\n\u001b[1;32m      8\u001b[0m     \u001b[38;5;28mprint\u001b[39m(\u001b[38;5;124mf\u001b[39m\u001b[38;5;124m\"\u001b[39m\u001b[38;5;124mMemory usage for chunk \u001b[39m\u001b[38;5;132;01m{\u001b[39;00mi\u001b[38;5;250m \u001b[39m\u001b[38;5;241m+\u001b[39m\u001b[38;5;250m \u001b[39m\u001b[38;5;241m1\u001b[39m\u001b[38;5;132;01m}\u001b[39;00m\u001b[38;5;124m: \u001b[39m\u001b[38;5;132;01m{\u001b[39;00mchunk\u001b[38;5;241m.\u001b[39mmemory_usage(deep\u001b[38;5;241m=\u001b[39m\u001b[38;5;28;01mTrue\u001b[39;00m)\u001b[38;5;241m.\u001b[39msum()\u001b[38;5;250m \u001b[39m\u001b[38;5;241m/\u001b[39m\u001b[38;5;250m \u001b[39m(\u001b[38;5;241m1024\u001b[39m\u001b[38;5;250m \u001b[39m\u001b[38;5;241m*\u001b[39m\u001b[38;5;241m*\u001b[39m\u001b[38;5;250m \u001b[39m\u001b[38;5;241m2\u001b[39m)\u001b[38;5;132;01m:\u001b[39;00m\u001b[38;5;124m.2f\u001b[39m\u001b[38;5;132;01m}\u001b[39;00m\u001b[38;5;124m MB\u001b[39m\u001b[38;5;124m\"\u001b[39m)\n",
      "File \u001b[0;32m~/Library/Python/3.9/lib/python/site-packages/pandas/io/parsers/readers.py:1668\u001b[0m, in \u001b[0;36mTextFileReader.__next__\u001b[0;34m(self)\u001b[0m\n\u001b[1;32m   1666\u001b[0m \u001b[38;5;28;01mdef\u001b[39;00m \u001b[38;5;21m__next__\u001b[39m(\u001b[38;5;28mself\u001b[39m) \u001b[38;5;241m-\u001b[39m\u001b[38;5;241m>\u001b[39m DataFrame:\n\u001b[1;32m   1667\u001b[0m     \u001b[38;5;28;01mtry\u001b[39;00m:\n\u001b[0;32m-> 1668\u001b[0m         \u001b[38;5;28;01mreturn\u001b[39;00m \u001b[38;5;28;43mself\u001b[39;49m\u001b[38;5;241;43m.\u001b[39;49m\u001b[43mget_chunk\u001b[49m\u001b[43m(\u001b[49m\u001b[43m)\u001b[49m\n\u001b[1;32m   1669\u001b[0m     \u001b[38;5;28;01mexcept\u001b[39;00m \u001b[38;5;167;01mStopIteration\u001b[39;00m:\n\u001b[1;32m   1670\u001b[0m         \u001b[38;5;28mself\u001b[39m\u001b[38;5;241m.\u001b[39mclose()\n",
      "File \u001b[0;32m~/Library/Python/3.9/lib/python/site-packages/pandas/io/parsers/readers.py:1777\u001b[0m, in \u001b[0;36mTextFileReader.get_chunk\u001b[0;34m(self, size)\u001b[0m\n\u001b[1;32m   1775\u001b[0m         \u001b[38;5;28;01mraise\u001b[39;00m \u001b[38;5;167;01mStopIteration\u001b[39;00m\n\u001b[1;32m   1776\u001b[0m     size \u001b[38;5;241m=\u001b[39m \u001b[38;5;28mmin\u001b[39m(size, \u001b[38;5;28mself\u001b[39m\u001b[38;5;241m.\u001b[39mnrows \u001b[38;5;241m-\u001b[39m \u001b[38;5;28mself\u001b[39m\u001b[38;5;241m.\u001b[39m_currow)\n\u001b[0;32m-> 1777\u001b[0m \u001b[38;5;28;01mreturn\u001b[39;00m \u001b[38;5;28;43mself\u001b[39;49m\u001b[38;5;241;43m.\u001b[39;49m\u001b[43mread\u001b[49m\u001b[43m(\u001b[49m\u001b[43mnrows\u001b[49m\u001b[38;5;241;43m=\u001b[39;49m\u001b[43msize\u001b[49m\u001b[43m)\u001b[49m\n",
      "File \u001b[0;32m~/Library/Python/3.9/lib/python/site-packages/pandas/io/parsers/readers.py:1748\u001b[0m, in \u001b[0;36mTextFileReader.read\u001b[0;34m(self, nrows)\u001b[0m\n\u001b[1;32m   1741\u001b[0m nrows \u001b[38;5;241m=\u001b[39m validate_integer(\u001b[38;5;124m\"\u001b[39m\u001b[38;5;124mnrows\u001b[39m\u001b[38;5;124m\"\u001b[39m, nrows)\n\u001b[1;32m   1742\u001b[0m \u001b[38;5;28;01mtry\u001b[39;00m:\n\u001b[1;32m   1743\u001b[0m     \u001b[38;5;66;03m# error: \"ParserBase\" has no attribute \"read\"\u001b[39;00m\n\u001b[1;32m   1744\u001b[0m     (\n\u001b[1;32m   1745\u001b[0m         index,\n\u001b[1;32m   1746\u001b[0m         columns,\n\u001b[1;32m   1747\u001b[0m         col_dict,\n\u001b[0;32m-> 1748\u001b[0m     ) \u001b[38;5;241m=\u001b[39m \u001b[38;5;28;43mself\u001b[39;49m\u001b[38;5;241;43m.\u001b[39;49m\u001b[43m_engine\u001b[49m\u001b[38;5;241;43m.\u001b[39;49m\u001b[43mread\u001b[49m\u001b[43m(\u001b[49m\u001b[43m  \u001b[49m\u001b[38;5;66;43;03m# type: ignore[attr-defined]\u001b[39;49;00m\n\u001b[1;32m   1749\u001b[0m \u001b[43m        \u001b[49m\u001b[43mnrows\u001b[49m\n\u001b[1;32m   1750\u001b[0m \u001b[43m    \u001b[49m\u001b[43m)\u001b[49m\n\u001b[1;32m   1751\u001b[0m \u001b[38;5;28;01mexcept\u001b[39;00m \u001b[38;5;167;01mException\u001b[39;00m:\n\u001b[1;32m   1752\u001b[0m     \u001b[38;5;28mself\u001b[39m\u001b[38;5;241m.\u001b[39mclose()\n",
      "File \u001b[0;32m~/Library/Python/3.9/lib/python/site-packages/pandas/io/parsers/c_parser_wrapper.py:234\u001b[0m, in \u001b[0;36mCParserWrapper.read\u001b[0;34m(self, nrows)\u001b[0m\n\u001b[1;32m    232\u001b[0m \u001b[38;5;28;01mtry\u001b[39;00m:\n\u001b[1;32m    233\u001b[0m     \u001b[38;5;28;01mif\u001b[39;00m \u001b[38;5;28mself\u001b[39m\u001b[38;5;241m.\u001b[39mlow_memory:\n\u001b[0;32m--> 234\u001b[0m         chunks \u001b[38;5;241m=\u001b[39m \u001b[38;5;28;43mself\u001b[39;49m\u001b[38;5;241;43m.\u001b[39;49m\u001b[43m_reader\u001b[49m\u001b[38;5;241;43m.\u001b[39;49m\u001b[43mread_low_memory\u001b[49m\u001b[43m(\u001b[49m\u001b[43mnrows\u001b[49m\u001b[43m)\u001b[49m\n\u001b[1;32m    235\u001b[0m         \u001b[38;5;66;03m# destructive to chunks\u001b[39;00m\n\u001b[1;32m    236\u001b[0m         data \u001b[38;5;241m=\u001b[39m _concatenate_chunks(chunks)\n",
      "File \u001b[0;32mparsers.pyx:855\u001b[0m, in \u001b[0;36mpandas._libs.parsers.TextReader.read_low_memory\u001b[0;34m()\u001b[0m\n",
      "File \u001b[0;32mparsers.pyx:904\u001b[0m, in \u001b[0;36mpandas._libs.parsers.TextReader._read_rows\u001b[0;34m()\u001b[0m\n",
      "File \u001b[0;32mparsers.pyx:879\u001b[0m, in \u001b[0;36mpandas._libs.parsers.TextReader._tokenize_rows\u001b[0;34m()\u001b[0m\n",
      "File \u001b[0;32mparsers.pyx:890\u001b[0m, in \u001b[0;36mpandas._libs.parsers.TextReader._check_tokenize_status\u001b[0;34m()\u001b[0m\n",
      "File \u001b[0;32mparsers.pyx:2058\u001b[0m, in \u001b[0;36mpandas._libs.parsers.raise_parser_error\u001b[0;34m()\u001b[0m\n",
      "\u001b[0;31mParserError\u001b[0m: Error tokenizing data. C error: Calling read(nbytes) on source failed. Try engine='python'."
     ]
    }
   ],
   "source": [
    "import pandas as pd\n",
    "\n",
    "chunk_size = 1000000\n",
    "df_chunks = pd.read_csv(url, compression='zip', header=0, sep=',', quotechar='\"', chunksize=chunk_size)\n",
    "\n",
    "\n",
    "for i, chunk in enumerate(df_chunks):\n",
    "    print(f\"Memory usage for chunk {i + 1}: {chunk.memory_usage(deep=True).sum() / (1024 ** 2):.2f} MB\")\n",
    "\n"
   ]
  },
  {
   "cell_type": "code",
   "execution_count": null,
   "metadata": {},
   "outputs": [],
   "source": [
    "df_chunks = pd.read_csv(url, compression='zip', header=0, \n",
    "                 sep=',', quotechar='\"',\n",
    "                 usecols=needed_categories, chunksize=1000000)\n",
    "for i, chunk in enumerate(df_chunks):\n",
    "    print(f\"Memory usage for chunk {i + 1}: {chunk.memory_usage(deep=True).sum() / (1024 ** 2):.2f} MB\")\n"
   ]
  },
  {
   "cell_type": "code",
   "execution_count": 6,
   "metadata": {},
   "outputs": [],
   "source": [
    "def process_data(url, chunk_size, needed_categories):\n",
    "    start_time = time.time()\n",
    "    df_chunks = pd.read_csv(url, compression='zip', header=0, \n",
    "                 sep=',', quotechar='\"',\n",
    "                 usecols=needed_categories, chunksize=chunk_size)\n",
    "    large = []\n",
    "    small = []\n",
    "    final_output = pd.DataFrame()\n",
    "    \n",
    "    for i, chunk in enumerate(df_chunks):\n",
    "        print(f\"Memory usage for chunk {i}: {chunk.memory_usage(deep=True).sum() / (1024 ** 2):.2f} MB\")\n",
    "        large.append(chunk.memory_usage(deep=True).sum() / (1024 ** 2))\n",
    "\n",
    "        chunk['count'] = np.int32(1)\n",
    "        chunk['event_time'] = pd.to_datetime(chunk['event_time']).dt.date\n",
    "        processed_chunk = chunk.groupby(needed_categories, as_index=False).agg({'count': 'sum'})\n",
    "        processed_chunk['price'] = processed_chunk['price'].astype('float16')\n",
    "        final_output = pd.concat([final_output, processed_chunk], ignore_index=True, sort=False)\n",
    "        \n",
    "        print(f\"Memory usage after processing chunk {i}: {processed_chunk.memory_usage(deep=True).sum() / (1024 ** 2):.2f} MB\")\n",
    "        small.append(processed_chunk.memory_usage(deep=True).sum() / (1024 ** 2))\n",
    "        \n",
    "        print(\"-\"*50)\n",
    "        print('\\n')\n",
    "\n",
    "    final_output.to_csv(\"final_output.csv\", index=False)\n",
    "    end_time = time.time()\n",
    "    print(f\"Total time taken: {end_time - start_time:.2f} seconds\")\n",
    "    return final_output, large, small"
   ]
  },
  {
   "cell_type": "code",
   "execution_count": 8,
   "metadata": {},
   "outputs": [
    {
     "name": "stdout",
     "output_type": "stream",
     "text": [
      "Memory usage for chunk 0: 259.24 MB\n",
      "Memory usage after processing chunk 0: 6.18 MB\n",
      "--------------------------------------------------\n",
      "\n",
      "\n",
      "Memory usage for chunk 1: 259.00 MB\n",
      "Memory usage after processing chunk 1: 9.25 MB\n",
      "--------------------------------------------------\n",
      "\n",
      "\n",
      "Memory usage for chunk 2: 258.75 MB\n",
      "Memory usage after processing chunk 2: 5.92 MB\n",
      "--------------------------------------------------\n",
      "\n",
      "\n",
      "Memory usage for chunk 3: 259.54 MB\n",
      "Memory usage after processing chunk 3: 5.91 MB\n",
      "--------------------------------------------------\n",
      "\n",
      "\n",
      "Memory usage for chunk 4: 258.94 MB\n",
      "Memory usage after processing chunk 4: 9.04 MB\n",
      "--------------------------------------------------\n",
      "\n",
      "\n",
      "Memory usage for chunk 5: 259.01 MB\n",
      "Memory usage after processing chunk 5: 6.11 MB\n",
      "--------------------------------------------------\n",
      "\n",
      "\n",
      "Memory usage for chunk 6: 258.35 MB\n",
      "Memory usage after processing chunk 6: 8.97 MB\n",
      "--------------------------------------------------\n",
      "\n",
      "\n",
      "Memory usage for chunk 7: 258.33 MB\n",
      "Memory usage after processing chunk 7: 5.64 MB\n",
      "--------------------------------------------------\n",
      "\n",
      "\n",
      "Memory usage for chunk 8: 258.33 MB\n",
      "Memory usage after processing chunk 8: 7.17 MB\n",
      "--------------------------------------------------\n",
      "\n",
      "\n",
      "Memory usage for chunk 9: 258.13 MB\n",
      "Memory usage after processing chunk 9: 8.10 MB\n",
      "--------------------------------------------------\n",
      "\n",
      "\n",
      "Memory usage for chunk 10: 258.31 MB\n",
      "Memory usage after processing chunk 10: 5.95 MB\n",
      "--------------------------------------------------\n",
      "\n",
      "\n",
      "Memory usage for chunk 11: 258.76 MB\n",
      "Memory usage after processing chunk 11: 9.71 MB\n",
      "--------------------------------------------------\n",
      "\n",
      "\n",
      "Memory usage for chunk 12: 259.31 MB\n",
      "Memory usage after processing chunk 12: 6.22 MB\n",
      "--------------------------------------------------\n",
      "\n",
      "\n",
      "Memory usage for chunk 13: 258.64 MB\n",
      "Memory usage after processing chunk 13: 9.56 MB\n",
      "--------------------------------------------------\n",
      "\n",
      "\n",
      "Memory usage for chunk 14: 259.29 MB\n",
      "Memory usage after processing chunk 14: 6.79 MB\n",
      "--------------------------------------------------\n",
      "\n",
      "\n",
      "Memory usage for chunk 15: 259.00 MB\n",
      "Memory usage after processing chunk 15: 9.81 MB\n",
      "--------------------------------------------------\n",
      "\n",
      "\n",
      "Memory usage for chunk 16: 259.19 MB\n",
      "Memory usage after processing chunk 16: 6.35 MB\n",
      "--------------------------------------------------\n",
      "\n",
      "\n",
      "Memory usage for chunk 17: 258.57 MB\n",
      "Memory usage after processing chunk 17: 10.15 MB\n",
      "--------------------------------------------------\n",
      "\n",
      "\n",
      "Memory usage for chunk 18: 259.03 MB\n",
      "Memory usage after processing chunk 18: 6.61 MB\n",
      "--------------------------------------------------\n",
      "\n",
      "\n",
      "Memory usage for chunk 19: 258.83 MB\n",
      "Memory usage after processing chunk 19: 10.24 MB\n",
      "--------------------------------------------------\n",
      "\n",
      "\n",
      "Memory usage for chunk 20: 259.15 MB\n",
      "Memory usage after processing chunk 20: 6.42 MB\n",
      "--------------------------------------------------\n",
      "\n",
      "\n",
      "Memory usage for chunk 21: 259.34 MB\n",
      "Memory usage after processing chunk 21: 10.08 MB\n",
      "--------------------------------------------------\n",
      "\n",
      "\n",
      "Memory usage for chunk 22: 259.63 MB\n",
      "Memory usage after processing chunk 22: 6.42 MB\n",
      "--------------------------------------------------\n",
      "\n",
      "\n",
      "Memory usage for chunk 23: 259.64 MB\n",
      "Memory usage after processing chunk 23: 9.59 MB\n",
      "--------------------------------------------------\n",
      "\n",
      "\n",
      "Memory usage for chunk 24: 260.48 MB\n",
      "Memory usage after processing chunk 24: 6.25 MB\n",
      "--------------------------------------------------\n",
      "\n",
      "\n",
      "Memory usage for chunk 25: 261.63 MB\n",
      "Memory usage after processing chunk 25: 6.11 MB\n",
      "--------------------------------------------------\n",
      "\n",
      "\n",
      "Memory usage for chunk 26: 261.12 MB\n",
      "Memory usage after processing chunk 26: 9.13 MB\n",
      "--------------------------------------------------\n",
      "\n",
      "\n",
      "Memory usage for chunk 27: 261.10 MB\n",
      "Memory usage after processing chunk 27: 5.96 MB\n",
      "--------------------------------------------------\n",
      "\n",
      "\n",
      "Memory usage for chunk 28: 260.48 MB\n",
      "Memory usage after processing chunk 28: 5.82 MB\n",
      "--------------------------------------------------\n",
      "\n",
      "\n",
      "Memory usage for chunk 29: 260.20 MB\n",
      "Memory usage after processing chunk 29: 5.88 MB\n",
      "--------------------------------------------------\n",
      "\n",
      "\n",
      "Memory usage for chunk 30: 259.23 MB\n",
      "Memory usage after processing chunk 30: 5.77 MB\n",
      "--------------------------------------------------\n",
      "\n",
      "\n",
      "Memory usage for chunk 31: 257.99 MB\n",
      "Memory usage after processing chunk 31: 5.91 MB\n",
      "--------------------------------------------------\n",
      "\n",
      "\n",
      "Memory usage for chunk 32: 258.45 MB\n",
      "Memory usage after processing chunk 32: 9.12 MB\n",
      "--------------------------------------------------\n",
      "\n",
      "\n",
      "Memory usage for chunk 33: 260.09 MB\n",
      "Memory usage after processing chunk 33: 5.73 MB\n",
      "--------------------------------------------------\n",
      "\n",
      "\n",
      "Memory usage for chunk 34: 260.39 MB\n",
      "Memory usage after processing chunk 34: 6.39 MB\n",
      "--------------------------------------------------\n",
      "\n",
      "\n",
      "Memory usage for chunk 35: 260.25 MB\n",
      "Memory usage after processing chunk 35: 7.06 MB\n",
      "--------------------------------------------------\n",
      "\n",
      "\n",
      "Memory usage for chunk 36: 259.97 MB\n",
      "Memory usage after processing chunk 36: 6.99 MB\n",
      "--------------------------------------------------\n",
      "\n",
      "\n",
      "Memory usage for chunk 37: 258.93 MB\n",
      "Memory usage after processing chunk 37: 6.39 MB\n",
      "--------------------------------------------------\n",
      "\n",
      "\n",
      "Memory usage for chunk 38: 257.43 MB\n",
      "Memory usage after processing chunk 38: 5.96 MB\n",
      "--------------------------------------------------\n",
      "\n",
      "\n",
      "Memory usage for chunk 39: 259.31 MB\n",
      "Memory usage after processing chunk 39: 8.64 MB\n",
      "--------------------------------------------------\n",
      "\n",
      "\n",
      "Memory usage for chunk 40: 260.73 MB\n",
      "Memory usage after processing chunk 40: 7.14 MB\n",
      "--------------------------------------------------\n",
      "\n",
      "\n",
      "Memory usage for chunk 41: 260.50 MB\n",
      "Memory usage after processing chunk 41: 7.27 MB\n",
      "--------------------------------------------------\n",
      "\n",
      "\n",
      "Memory usage for chunk 42: 260.07 MB\n",
      "Memory usage after processing chunk 42: 7.24 MB\n",
      "--------------------------------------------------\n",
      "\n",
      "\n",
      "Memory usage for chunk 43: 259.23 MB\n",
      "Memory usage after processing chunk 43: 7.24 MB\n",
      "--------------------------------------------------\n",
      "\n",
      "\n",
      "Memory usage for chunk 44: 258.25 MB\n",
      "Memory usage after processing chunk 44: 7.29 MB\n",
      "--------------------------------------------------\n",
      "\n",
      "\n",
      "Memory usage for chunk 45: 258.25 MB\n",
      "Memory usage after processing chunk 45: 10.64 MB\n",
      "--------------------------------------------------\n",
      "\n",
      "\n",
      "Memory usage for chunk 46: 258.83 MB\n",
      "Memory usage after processing chunk 46: 7.33 MB\n",
      "--------------------------------------------------\n",
      "\n",
      "\n",
      "Memory usage for chunk 47: 258.19 MB\n",
      "Memory usage after processing chunk 47: 9.70 MB\n",
      "--------------------------------------------------\n",
      "\n",
      "\n",
      "Memory usage for chunk 48: 258.41 MB\n",
      "Memory usage after processing chunk 48: 6.54 MB\n",
      "--------------------------------------------------\n",
      "\n",
      "\n",
      "Memory usage for chunk 49: 258.00 MB\n",
      "Memory usage after processing chunk 49: 9.43 MB\n",
      "--------------------------------------------------\n",
      "\n",
      "\n",
      "Memory usage for chunk 50: 257.97 MB\n",
      "Memory usage after processing chunk 50: 7.68 MB\n",
      "--------------------------------------------------\n",
      "\n",
      "\n",
      "Memory usage for chunk 51: 257.44 MB\n",
      "Memory usage after processing chunk 51: 6.71 MB\n",
      "--------------------------------------------------\n",
      "\n",
      "\n",
      "Memory usage for chunk 52: 258.01 MB\n",
      "Memory usage after processing chunk 52: 9.51 MB\n",
      "--------------------------------------------------\n",
      "\n",
      "\n",
      "Memory usage for chunk 53: 258.92 MB\n",
      "Memory usage after processing chunk 53: 7.08 MB\n",
      "--------------------------------------------------\n",
      "\n",
      "\n",
      "Memory usage for chunk 54: 259.38 MB\n",
      "Memory usage after processing chunk 54: 9.27 MB\n",
      "--------------------------------------------------\n",
      "\n",
      "\n",
      "Memory usage for chunk 55: 258.90 MB\n",
      "Memory usage after processing chunk 55: 9.20 MB\n",
      "--------------------------------------------------\n",
      "\n",
      "\n",
      "Memory usage for chunk 56: 259.64 MB\n",
      "Memory usage after processing chunk 56: 6.33 MB\n",
      "--------------------------------------------------\n",
      "\n",
      "\n",
      "Memory usage for chunk 57: 258.08 MB\n",
      "Memory usage after processing chunk 57: 9.97 MB\n",
      "--------------------------------------------------\n",
      "\n",
      "\n",
      "Memory usage for chunk 58: 258.49 MB\n",
      "Memory usage after processing chunk 58: 8.13 MB\n",
      "--------------------------------------------------\n",
      "\n",
      "\n",
      "Memory usage for chunk 59: 258.55 MB\n",
      "Memory usage after processing chunk 59: 6.79 MB\n",
      "--------------------------------------------------\n",
      "\n",
      "\n",
      "Memory usage for chunk 60: 258.71 MB\n",
      "Memory usage after processing chunk 60: 9.78 MB\n",
      "--------------------------------------------------\n",
      "\n",
      "\n",
      "Memory usage for chunk 61: 258.80 MB\n",
      "Memory usage after processing chunk 61: 6.85 MB\n",
      "--------------------------------------------------\n",
      "\n",
      "\n",
      "Memory usage for chunk 62: 259.27 MB\n",
      "Memory usage after processing chunk 62: 9.75 MB\n",
      "--------------------------------------------------\n",
      "\n",
      "\n",
      "Memory usage for chunk 63: 259.81 MB\n",
      "Memory usage after processing chunk 63: 8.42 MB\n",
      "--------------------------------------------------\n",
      "\n",
      "\n",
      "Memory usage for chunk 64: 261.46 MB\n",
      "Memory usage after processing chunk 64: 7.87 MB\n",
      "--------------------------------------------------\n",
      "\n",
      "\n",
      "Memory usage for chunk 65: 260.54 MB\n",
      "Memory usage after processing chunk 65: 9.62 MB\n",
      "--------------------------------------------------\n",
      "\n",
      "\n",
      "Memory usage for chunk 66: 260.45 MB\n",
      "Memory usage after processing chunk 66: 6.78 MB\n",
      "--------------------------------------------------\n",
      "\n",
      "\n",
      "Memory usage for chunk 67: 130.12 MB\n",
      "Memory usage after processing chunk 67: 5.01 MB\n",
      "--------------------------------------------------\n",
      "\n",
      "\n",
      "Total time taken: 342.45 seconds\n"
     ]
    }
   ],
   "source": [
    "final_output, large, small = process_data(url, chunk_size=1000000, \n",
    "                            needed_categories=needed_categories)"
   ]
  },
  {
   "cell_type": "code",
   "execution_count": null,
   "metadata": {},
   "outputs": [],
   "source": []
  }
 ],
 "metadata": {
  "kernelspec": {
   "display_name": "Python 3",
   "language": "python",
   "name": "python3"
  },
  "language_info": {
   "codemirror_mode": {
    "name": "ipython",
    "version": 3
   },
   "file_extension": ".py",
   "mimetype": "text/x-python",
   "name": "python",
   "nbconvert_exporter": "python",
   "pygments_lexer": "ipython3",
   "version": "3.9.6"
  }
 },
 "nbformat": 4,
 "nbformat_minor": 2
}
